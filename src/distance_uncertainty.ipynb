{
 "cells": [
  {
   "cell_type": "code",
   "execution_count": 1,
   "id": "initial_id",
   "metadata": {
    "collapsed": true,
    "ExecuteTime": {
     "end_time": "2023-11-02T19:28:55.937066284Z",
     "start_time": "2023-11-02T19:28:54.386749283Z"
    }
   },
   "outputs": [],
   "source": [
    "import torch\n",
    "from transformers import AutoTokenizer, AutoModel\n",
    "from torch.utils.data import Dataset\n",
    "import pandas as pd\n",
    "import selene_sdk\n",
    "import numpy as np"
   ]
  },
  {
   "cell_type": "code",
   "execution_count": 2,
   "outputs": [],
   "source": [
    "data_dir = \"/home/jiayu-huang/codebase/CRX-Active-Learning/Data/Sampling_Test/all_samples.csv\""
   ],
   "metadata": {
    "collapsed": false,
    "ExecuteTime": {
     "end_time": "2023-11-02T19:28:56.688976199Z",
     "start_time": "2023-11-02T19:28:56.670590520Z"
    }
   },
   "id": "c0594439f41e4a61"
  },
  {
   "cell_type": "code",
   "execution_count": 3,
   "outputs": [
    {
     "data": {
      "text/plain": "                                                sequence  expression_log2\n0      GTCACAGCTTTACAGCCTTCGGATGTTTCCAAAGTCTCCGCTCGAT...         1.596320\n1      TAAGCTGAGGGTTACTTCCCATGGCCCTGAAGAATGAGAAGGCATT...         1.737424\n2      GAGCCACTTGGCTTGGCGTAGGCTTTTGAGATCTCAAAGTCCACCA...         1.319990\n3      CAGACAGTACTTTGAAGAACAGATGGTGTGGGCCCTTTGTTACCAT...         0.522135\n4      CAGAGGGCTAGCAGGCCCAGGAGGAGGAGGAGCCAGGGCTGTTAAA...        -0.088277\n...                                                  ...              ...\n12474  GTCGACAGATGTGAAGATCAAGCGTGGAAAACTCTTTAAAAAGAAT...         0.721225\n12475  CGTAGCCTGACTTTGCCCTAAAAACCATCCTCTTCATTACCCTTAG...         0.720954\n12476  ATGACATACGTTTAATTCCCCTTTAGTATAAGGTATGAATCCTGAG...         5.929735\n12477  ATCCATGTCAGTAAAACCAAACAGAACCTTGACTGGATCTCTCGCA...         2.973909\n12478  ACGGTCAGCGCAACATTGTGCTGATTAACAGTCAGCATTTGTTACT...         5.329671\n\n[12479 rows x 2 columns]",
      "text/html": "<div>\n<style scoped>\n    .dataframe tbody tr th:only-of-type {\n        vertical-align: middle;\n    }\n\n    .dataframe tbody tr th {\n        vertical-align: top;\n    }\n\n    .dataframe thead th {\n        text-align: right;\n    }\n</style>\n<table border=\"1\" class=\"dataframe\">\n  <thead>\n    <tr style=\"text-align: right;\">\n      <th></th>\n      <th>sequence</th>\n      <th>expression_log2</th>\n    </tr>\n  </thead>\n  <tbody>\n    <tr>\n      <th>0</th>\n      <td>GTCACAGCTTTACAGCCTTCGGATGTTTCCAAAGTCTCCGCTCGAT...</td>\n      <td>1.596320</td>\n    </tr>\n    <tr>\n      <th>1</th>\n      <td>TAAGCTGAGGGTTACTTCCCATGGCCCTGAAGAATGAGAAGGCATT...</td>\n      <td>1.737424</td>\n    </tr>\n    <tr>\n      <th>2</th>\n      <td>GAGCCACTTGGCTTGGCGTAGGCTTTTGAGATCTCAAAGTCCACCA...</td>\n      <td>1.319990</td>\n    </tr>\n    <tr>\n      <th>3</th>\n      <td>CAGACAGTACTTTGAAGAACAGATGGTGTGGGCCCTTTGTTACCAT...</td>\n      <td>0.522135</td>\n    </tr>\n    <tr>\n      <th>4</th>\n      <td>CAGAGGGCTAGCAGGCCCAGGAGGAGGAGGAGCCAGGGCTGTTAAA...</td>\n      <td>-0.088277</td>\n    </tr>\n    <tr>\n      <th>...</th>\n      <td>...</td>\n      <td>...</td>\n    </tr>\n    <tr>\n      <th>12474</th>\n      <td>GTCGACAGATGTGAAGATCAAGCGTGGAAAACTCTTTAAAAAGAAT...</td>\n      <td>0.721225</td>\n    </tr>\n    <tr>\n      <th>12475</th>\n      <td>CGTAGCCTGACTTTGCCCTAAAAACCATCCTCTTCATTACCCTTAG...</td>\n      <td>0.720954</td>\n    </tr>\n    <tr>\n      <th>12476</th>\n      <td>ATGACATACGTTTAATTCCCCTTTAGTATAAGGTATGAATCCTGAG...</td>\n      <td>5.929735</td>\n    </tr>\n    <tr>\n      <th>12477</th>\n      <td>ATCCATGTCAGTAAAACCAAACAGAACCTTGACTGGATCTCTCGCA...</td>\n      <td>2.973909</td>\n    </tr>\n    <tr>\n      <th>12478</th>\n      <td>ACGGTCAGCGCAACATTGTGCTGATTAACAGTCAGCATTTGTTACT...</td>\n      <td>5.329671</td>\n    </tr>\n  </tbody>\n</table>\n<p>12479 rows × 2 columns</p>\n</div>"
     },
     "execution_count": 3,
     "metadata": {},
     "output_type": "execute_result"
    }
   ],
   "source": [
    "df = pd.read_csv(data_dir)\n",
    "df"
   ],
   "metadata": {
    "collapsed": false,
    "ExecuteTime": {
     "end_time": "2023-11-02T19:28:58.952621921Z",
     "start_time": "2023-11-02T19:28:58.921148192Z"
    }
   },
   "id": "308f1b1cf725f44c"
  },
  {
   "cell_type": "code",
   "execution_count": 4,
   "outputs": [],
   "source": [
    "from transformers import BertConfig\n",
    "\n",
    "tokenizer = AutoTokenizer.from_pretrained(\"zhihan1996/DNABERT-2-117M\", trust_remote_code=True)\n",
    "config = BertConfig.from_pretrained(\"zhihan1996/DNABERT-2-117M\")\n",
    "model = AutoModel.from_config(config).cuda()"
   ],
   "metadata": {
    "collapsed": false,
    "ExecuteTime": {
     "end_time": "2023-11-02T19:29:07.581656399Z",
     "start_time": "2023-11-02T19:29:05.678513748Z"
    }
   },
   "id": "d21c3fd24f32215b"
  },
  {
   "cell_type": "code",
   "execution_count": 5,
   "outputs": [],
   "source": [
    "# Pre-allocate memory\n",
    "embeddings_mean = np.zeros([len(df), 768])\n",
    "\n",
    "# Define batch size\n",
    "BATCH_SIZE = 256\n",
    "\n",
    "for i in range(0, len(df), BATCH_SIZE):\n",
    "    end_idx = min(i + BATCH_SIZE, len(df))\n",
    "    batch_dnas = df.iloc[i:end_idx]['sequence'].tolist()\n",
    "    \n",
    "    with torch.no_grad():\n",
    "        inputs = tokenizer(batch_dnas, return_tensors='pt', padding=True).to(\"cuda\")\n",
    "        hidden_states = model(**inputs).last_hidden_state\n",
    "        \n",
    "        # Mean pooling\n",
    "        batch_embedding_mean = torch.mean(hidden_states, dim=1).cpu()\n",
    "        embeddings_mean[i:end_idx] = batch_embedding_mean"
   ],
   "metadata": {
    "collapsed": false,
    "ExecuteTime": {
     "end_time": "2023-11-02T19:29:16.792530773Z",
     "start_time": "2023-11-02T19:29:09.889686844Z"
    }
   },
   "id": "108a7e10aacbebbc"
  },
  {
   "cell_type": "code",
   "execution_count": 6,
   "outputs": [
    {
     "data": {
      "text/plain": "(12479, 768)"
     },
     "execution_count": 6,
     "metadata": {},
     "output_type": "execute_result"
    }
   ],
   "source": [
    "embeddings_mean.shape"
   ],
   "metadata": {
    "collapsed": false,
    "ExecuteTime": {
     "end_time": "2023-11-02T19:29:21.150240619Z",
     "start_time": "2023-11-02T19:29:21.142313096Z"
    }
   },
   "id": "f28c29985013326f"
  },
  {
   "cell_type": "code",
   "execution_count": 7,
   "outputs": [],
   "source": [
    "def euclidean_distance(a, b):\n",
    "    return np.linalg.norm(a - b)"
   ],
   "metadata": {
    "collapsed": false,
    "ExecuteTime": {
     "end_time": "2023-11-02T19:29:31.742526215Z",
     "start_time": "2023-11-02T19:29:31.701393088Z"
    }
   },
   "id": "390cf334963f7bd8"
  },
  {
   "cell_type": "code",
   "execution_count": 12,
   "outputs": [],
   "source": [
    "def find_max_distance_indices(data, start_idx, num_iterations):\n",
    "    # List to store the indices of the data points\n",
    "    selected_indices = [start_idx]\n",
    "    current_point = data[start_idx]\n",
    "\n",
    "    for i in range(num_iterations):\n",
    "        max_distance = -1\n",
    "        max_distance_idx = -1\n",
    "\n",
    "        for idx, point in enumerate(data):\n",
    "            if idx not in selected_indices:\n",
    "                distance = euclidean_distance(current_point, point)\n",
    "                if distance > max_distance:\n",
    "                    max_distance = distance\n",
    "                    max_distance_idx = idx\n",
    "\n",
    "        if max_distance_idx != -1:\n",
    "            selected_indices.append(max_distance_idx)\n",
    "            current_point = data[max_distance_idx]\n",
    "        else:\n",
    "            # Break if we cannot find a point further away (although very unlikely)\n",
    "            break\n",
    "\n",
    "    return selected_indices"
   ],
   "metadata": {
    "collapsed": false,
    "ExecuteTime": {
     "end_time": "2023-11-02T20:57:37.562458296Z",
     "start_time": "2023-11-02T20:57:37.522284938Z"
    }
   },
   "id": "a15434d43d5420fd"
  },
  {
   "cell_type": "code",
   "execution_count": 13,
   "outputs": [],
   "source": [
    "selected_indices = find_max_distance_indices(embeddings_mean, 10829, 3000)"
   ],
   "metadata": {
    "collapsed": false,
    "ExecuteTime": {
     "end_time": "2023-11-02T21:04:28.607366835Z",
     "start_time": "2023-11-02T21:00:37.822680403Z"
    }
   },
   "id": "f78018ee769f9cbf"
  },
  {
   "cell_type": "code",
   "execution_count": 15,
   "outputs": [],
   "source": [
    "selected_indices = np.array(selected_indices)"
   ],
   "metadata": {
    "collapsed": false,
    "ExecuteTime": {
     "end_time": "2023-11-02T21:27:47.826607495Z",
     "start_time": "2023-11-02T21:27:47.786162862Z"
    }
   },
   "id": "1ca0a29c921c1b90"
  },
  {
   "cell_type": "code",
   "execution_count": 16,
   "outputs": [
    {
     "data": {
      "text/plain": "                                                sequence  expression_log2\n10829  AGGATTTAGGGAATGATCCGACAGATTTCCACCAATTAGTATAGGA...        -1.974335\n1144   TCCCTGAGCTCACTGGTTGCCTAGACAGAACCTCTCACTGCTCCCT...         1.517654\n2741   AGGAACACACTCCGCACTGCCCTCGCGTCGGACGCGAGGGGGCGTG...        -0.096106\n2991   TGTTCACTACGCCTTCTGCCACTGTATCCACTACGCCTTCTGCCAC...         1.346613\n1248   AGCCTCACCCTAAATTTAGACCCCAGCGTATTCTGACGACAGCCTG...         2.144198\n...                                                  ...              ...\n8033   TTAAGCTCTATAGCTTGGTAAGACTATTGATTACCTTTCTCCCTTG...         3.293132\n10121  ATAGGGTATGGACCGAGGCGAGGGGGCTCTAATCTACATATAAAGG...         2.900259\n2751   TCTGGGTCTGGTTCAGTGAGCCCCTGAGGTTCACGGGTTGAAATTT...         2.382437\n4502   CACGCCCACTGATTTGTGACACTAGGGCCTACTTAGTTTTAGAGTT...        -2.651467\n230    GAACACAAGCACTCTCCCGTTAAGCACTCACTCCATGTTTAAGGAG...         0.713774\n\n[3001 rows x 2 columns]",
      "text/html": "<div>\n<style scoped>\n    .dataframe tbody tr th:only-of-type {\n        vertical-align: middle;\n    }\n\n    .dataframe tbody tr th {\n        vertical-align: top;\n    }\n\n    .dataframe thead th {\n        text-align: right;\n    }\n</style>\n<table border=\"1\" class=\"dataframe\">\n  <thead>\n    <tr style=\"text-align: right;\">\n      <th></th>\n      <th>sequence</th>\n      <th>expression_log2</th>\n    </tr>\n  </thead>\n  <tbody>\n    <tr>\n      <th>10829</th>\n      <td>AGGATTTAGGGAATGATCCGACAGATTTCCACCAATTAGTATAGGA...</td>\n      <td>-1.974335</td>\n    </tr>\n    <tr>\n      <th>1144</th>\n      <td>TCCCTGAGCTCACTGGTTGCCTAGACAGAACCTCTCACTGCTCCCT...</td>\n      <td>1.517654</td>\n    </tr>\n    <tr>\n      <th>2741</th>\n      <td>AGGAACACACTCCGCACTGCCCTCGCGTCGGACGCGAGGGGGCGTG...</td>\n      <td>-0.096106</td>\n    </tr>\n    <tr>\n      <th>2991</th>\n      <td>TGTTCACTACGCCTTCTGCCACTGTATCCACTACGCCTTCTGCCAC...</td>\n      <td>1.346613</td>\n    </tr>\n    <tr>\n      <th>1248</th>\n      <td>AGCCTCACCCTAAATTTAGACCCCAGCGTATTCTGACGACAGCCTG...</td>\n      <td>2.144198</td>\n    </tr>\n    <tr>\n      <th>...</th>\n      <td>...</td>\n      <td>...</td>\n    </tr>\n    <tr>\n      <th>8033</th>\n      <td>TTAAGCTCTATAGCTTGGTAAGACTATTGATTACCTTTCTCCCTTG...</td>\n      <td>3.293132</td>\n    </tr>\n    <tr>\n      <th>10121</th>\n      <td>ATAGGGTATGGACCGAGGCGAGGGGGCTCTAATCTACATATAAAGG...</td>\n      <td>2.900259</td>\n    </tr>\n    <tr>\n      <th>2751</th>\n      <td>TCTGGGTCTGGTTCAGTGAGCCCCTGAGGTTCACGGGTTGAAATTT...</td>\n      <td>2.382437</td>\n    </tr>\n    <tr>\n      <th>4502</th>\n      <td>CACGCCCACTGATTTGTGACACTAGGGCCTACTTAGTTTTAGAGTT...</td>\n      <td>-2.651467</td>\n    </tr>\n    <tr>\n      <th>230</th>\n      <td>GAACACAAGCACTCTCCCGTTAAGCACTCACTCCATGTTTAAGGAG...</td>\n      <td>0.713774</td>\n    </tr>\n  </tbody>\n</table>\n<p>3001 rows × 2 columns</p>\n</div>"
     },
     "execution_count": 16,
     "metadata": {},
     "output_type": "execute_result"
    }
   ],
   "source": [
    "largest_seqs = df.iloc[selected_indices]\n",
    "largest_seqs"
   ],
   "metadata": {
    "collapsed": false,
    "ExecuteTime": {
     "end_time": "2023-11-02T21:28:07.835040469Z",
     "start_time": "2023-11-02T21:28:07.793049355Z"
    }
   },
   "id": "fb764ba049e3ffdf"
  },
  {
   "cell_type": "code",
   "execution_count": 18,
   "outputs": [],
   "source": [
    "largest_seqs.to_csv(\"/home/jiayu-huang/codebase/CRX-Active-Learning/Data/Sampling_Test/largest_samples_distance.csv\", index=False)"
   ],
   "metadata": {
    "collapsed": false,
    "ExecuteTime": {
     "end_time": "2023-11-02T21:30:44.254543987Z",
     "start_time": "2023-11-02T21:30:44.211176739Z"
    }
   },
   "id": "9811a7fb7db4fba9"
  },
  {
   "cell_type": "code",
   "execution_count": null,
   "outputs": [],
   "source": [],
   "metadata": {
    "collapsed": false
   },
   "id": "62a03f1bc664fe7c"
  }
 ],
 "metadata": {
  "kernelspec": {
   "display_name": "Python 3",
   "language": "python",
   "name": "python3"
  },
  "language_info": {
   "codemirror_mode": {
    "name": "ipython",
    "version": 2
   },
   "file_extension": ".py",
   "mimetype": "text/x-python",
   "name": "python",
   "nbconvert_exporter": "python",
   "pygments_lexer": "ipython2",
   "version": "2.7.6"
  }
 },
 "nbformat": 4,
 "nbformat_minor": 5
}
