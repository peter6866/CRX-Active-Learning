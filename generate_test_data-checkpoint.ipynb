{
 "cells": [
  {
   "cell_type": "code",
   "execution_count": 1,
   "id": "e3098e1a-e8cd-46b8-a944-bf15eb473481",
   "metadata": {
    "ExecuteTime": {
     "end_time": "2023-11-01T21:21:26.614760579Z",
     "start_time": "2023-11-01T21:21:26.518409048Z"
    }
   },
   "outputs": [],
   "source": [
    "import pandas as pd\n",
    "import numpy as np"
   ]
  },
  {
   "cell_type": "code",
   "execution_count": 2,
   "id": "e925fa00-ece3-40df-b8e3-3c78ecd7d9cf",
   "metadata": {
    "ExecuteTime": {
     "end_time": "2023-11-01T21:21:27.243753126Z",
     "start_time": "2023-11-01T21:21:27.235575895Z"
    }
   },
   "outputs": [],
   "source": [
    "data_dir=\"Data/activity_summary_stats_and_metadata.txt\""
   ]
  },
  {
   "cell_type": "code",
   "execution_count": 3,
   "id": "1213b00c-4eae-4bf8-b3c7-7b51c23d9462",
   "metadata": {
    "ExecuteTime": {
     "end_time": "2023-11-01T21:21:27.885136505Z",
     "start_time": "2023-11-01T21:21:27.878783810Z"
    }
   },
   "outputs": [],
   "source": [
    "def load_data(file, index_col=0, **kwargs):\n",
    "    \"\"\"Wrapper for reading in an arbitrary tab-delimited file as a DataFrame/Series. Assumes the first column is the\n",
    "    index column. Extra arguments for pd.read_csv.\"\"\"\n",
    "    return pd.read_csv(file, sep=\"\\t\", index_col=index_col, na_values=\"NaN\", **kwargs)"
   ]
  },
  {
   "cell_type": "code",
   "execution_count": 4,
   "id": "4fba524e-5329-4fc9-882f-ebf6e5fc8456",
   "metadata": {
    "ExecuteTime": {
     "end_time": "2023-11-01T21:21:29.069191553Z",
     "start_time": "2023-11-01T21:21:28.717207080Z"
    }
   },
   "outputs": [],
   "source": [
    "df = load_data(data_dir)"
   ]
  },
  {
   "cell_type": "code",
   "execution_count": 5,
   "id": "14382ca4-7a9d-4d21-acb5-4441250bd728",
   "metadata": {
    "ExecuteTime": {
     "end_time": "2023-11-01T21:21:29.503778869Z",
     "start_time": "2023-11-01T21:21:29.496829537Z"
    }
   },
   "outputs": [
    {
     "data": {
      "text/plain": "Index(['label', 'expression', 'expression_std', 'expression_reps', 'mu',\n       'sigma', 'pval', 'qval', 'expression_log2', 'library', 'sequence',\n       'standard_seq', 'scrambled', 'immediate_precursor', 'original_seq',\n       'activity_bin', 'rational_mutagenesis', 'ic_scan', 'original_genomic',\n       'mut_all_crx', 'mut_shape', 'entropy_sampling', 'margin_sampling',\n       'random_sampling', 'high_conf_pilot', 'high_conf_cnn', 'l9_controls',\n       'l9_repeat_l8', 'test_set', 'derived_from_test_set_seq',\n       'cnn_validation_set', 'data_batch_name', 'svm_train', 'cnn_train'],\n      dtype='object')"
     },
     "execution_count": 5,
     "metadata": {},
     "output_type": "execute_result"
    }
   ],
   "source": [
    "df.columns"
   ]
  },
  {
   "cell_type": "code",
   "execution_count": 14,
   "id": "fb77962d-c424-4e79-9e2b-30a3843fa1c0",
   "metadata": {
    "ExecuteTime": {
     "end_time": "2023-11-01T21:44:49.597171693Z",
     "start_time": "2023-11-01T21:44:49.542620386Z"
    }
   },
   "outputs": [],
   "source": [
    "batches_to_use = [\n",
    "           \"Genomic\",\n",
    "           \"CrxMotifMutant\",\n",
    "            \"Round2\",\n",
    "            \"Round3a\",\n",
    "            \"Round3b\",\n",
    "           \"Round4b\",\n",
    "         ]"
   ]
  },
  {
   "cell_type": "code",
   "execution_count": 15,
   "id": "72e9436e-ca6c-45af-b9b3-112d194c559d",
   "metadata": {
    "ExecuteTime": {
     "end_time": "2023-11-01T21:44:49.932459511Z",
     "start_time": "2023-11-01T21:44:49.929275208Z"
    }
   },
   "outputs": [],
   "source": [
    "test_df = df[df[\"cnn_train\"] & df[\"data_batch_name\"].isin(batches_to_use)]"
   ]
  },
  {
   "cell_type": "code",
   "execution_count": 16,
   "id": "888d85af-b22e-487e-a89d-0b3a03dcc7df",
   "metadata": {
    "ExecuteTime": {
     "end_time": "2023-11-01T21:44:50.279187306Z",
     "start_time": "2023-11-01T21:44:50.273985893Z"
    }
   },
   "outputs": [
    {
     "data": {
      "text/plain": "                                                       sequence  \\\nunique_index                                                      \n0             GTCACAGCTTTACAGCCTTCGGATGTTTCCAAAGTCTCCGCTCGAT...   \n1             GTCACAGCTTTACAGCCTTCGGATGTTTCCAAAGTCTCCGCTCGAT...   \n2             TAAGCTGAGGGTTACTTCCCATGGCCCTGAAGAATGAGAAGGCATT...   \n3             TAAGCTGAGGGTTAATTCCCATGGCCCTGAAGAATGAGAAGGCATT...   \n5             GAGCCACTTGGCTTGGCGTAGGCTTTTGAGATCTCAAAGTCCACCA...   \n...                                                         ...   \n120903        ATGACATACGTTTAATTCCGTCAGCAATTCAGGTATGAATCCTGAG...   \n120904        ATGACATACGTTTAATTCCCCTTTAGTATAAGGTATGAATTTAATT...   \n120905        ATGACATACGTTTAATTCCCCTTTAGTATAAGGTATGAATCCTGAG...   \n120906        ATGACATACGTTTAATTCCCCTTTAGTATAAGGTATGAATCCTGAG...   \n120908        ACAGATCACTACCAGTGATTTGCCTCACGCGGATTACGGTTATCCT...   \n\n              expression_log2  \nunique_index                   \n0                    1.596320  \n1                    1.848766  \n2                    1.737424  \n3                    1.079015  \n5                    1.319990  \n...                       ...  \n120903               3.937299  \n120904               3.141262  \n120905               2.686709  \n120906               3.197026  \n120908               1.983158  \n\n[35338 rows x 2 columns]",
      "text/html": "<div>\n<style scoped>\n    .dataframe tbody tr th:only-of-type {\n        vertical-align: middle;\n    }\n\n    .dataframe tbody tr th {\n        vertical-align: top;\n    }\n\n    .dataframe thead th {\n        text-align: right;\n    }\n</style>\n<table border=\"1\" class=\"dataframe\">\n  <thead>\n    <tr style=\"text-align: right;\">\n      <th></th>\n      <th>sequence</th>\n      <th>expression_log2</th>\n    </tr>\n    <tr>\n      <th>unique_index</th>\n      <th></th>\n      <th></th>\n    </tr>\n  </thead>\n  <tbody>\n    <tr>\n      <th>0</th>\n      <td>GTCACAGCTTTACAGCCTTCGGATGTTTCCAAAGTCTCCGCTCGAT...</td>\n      <td>1.596320</td>\n    </tr>\n    <tr>\n      <th>1</th>\n      <td>GTCACAGCTTTACAGCCTTCGGATGTTTCCAAAGTCTCCGCTCGAT...</td>\n      <td>1.848766</td>\n    </tr>\n    <tr>\n      <th>2</th>\n      <td>TAAGCTGAGGGTTACTTCCCATGGCCCTGAAGAATGAGAAGGCATT...</td>\n      <td>1.737424</td>\n    </tr>\n    <tr>\n      <th>3</th>\n      <td>TAAGCTGAGGGTTAATTCCCATGGCCCTGAAGAATGAGAAGGCATT...</td>\n      <td>1.079015</td>\n    </tr>\n    <tr>\n      <th>5</th>\n      <td>GAGCCACTTGGCTTGGCGTAGGCTTTTGAGATCTCAAAGTCCACCA...</td>\n      <td>1.319990</td>\n    </tr>\n    <tr>\n      <th>...</th>\n      <td>...</td>\n      <td>...</td>\n    </tr>\n    <tr>\n      <th>120903</th>\n      <td>ATGACATACGTTTAATTCCGTCAGCAATTCAGGTATGAATCCTGAG...</td>\n      <td>3.937299</td>\n    </tr>\n    <tr>\n      <th>120904</th>\n      <td>ATGACATACGTTTAATTCCCCTTTAGTATAAGGTATGAATTTAATT...</td>\n      <td>3.141262</td>\n    </tr>\n    <tr>\n      <th>120905</th>\n      <td>ATGACATACGTTTAATTCCCCTTTAGTATAAGGTATGAATCCTGAG...</td>\n      <td>2.686709</td>\n    </tr>\n    <tr>\n      <th>120906</th>\n      <td>ATGACATACGTTTAATTCCCCTTTAGTATAAGGTATGAATCCTGAG...</td>\n      <td>3.197026</td>\n    </tr>\n    <tr>\n      <th>120908</th>\n      <td>ACAGATCACTACCAGTGATTTGCCTCACGCGGATTACGGTTATCCT...</td>\n      <td>1.983158</td>\n    </tr>\n  </tbody>\n</table>\n<p>35338 rows × 2 columns</p>\n</div>"
     },
     "execution_count": 16,
     "metadata": {},
     "output_type": "execute_result"
    }
   ],
   "source": [
    "test_df[[\"sequence\",\"expression_log2\"]]"
   ]
  },
  {
   "cell_type": "code",
   "execution_count": 13,
   "id": "e66f7cd0-733a-4556-b8a4-8cdb8976f161",
   "metadata": {
    "ExecuteTime": {
     "end_time": "2023-11-01T21:27:38.658791052Z",
     "start_time": "2023-11-01T21:27:38.641289522Z"
    }
   },
   "outputs": [],
   "source": [
    "tests = test_df[[\"sequence\",\"expression_log2\"]]\n",
    "tests.to_csv(\"Data/Sampling_Test/samples_genomic.csv\",index=False)"
   ]
  },
  {
   "cell_type": "code",
   "execution_count": 10,
   "id": "b345e837-5b88-4513-b102-a07d3b08869d",
   "metadata": {},
   "outputs": [],
   "source": [
    "tests.sample(n=3000).to_csv(\"Data/Sampling_Test/random_sample.csv\", index=False)"
   ]
  }
 ],
 "metadata": {
  "kernelspec": {
   "display_name": "Python 3 (ipykernel)",
   "language": "python",
   "name": "python3"
  },
  "language_info": {
   "codemirror_mode": {
    "name": "ipython",
    "version": 3
   },
   "file_extension": ".py",
   "mimetype": "text/x-python",
   "name": "python",
   "nbconvert_exporter": "python",
   "pygments_lexer": "ipython3",
   "version": "3.9.16"
  }
 },
 "nbformat": 4,
 "nbformat_minor": 5
}
