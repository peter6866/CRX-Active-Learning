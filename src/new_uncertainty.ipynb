{
 "cells": [
  {
   "cell_type": "code",
   "execution_count": 1,
   "id": "5d369466-60d9-4b22-85fc-a4f393319555",
   "metadata": {},
   "outputs": [],
   "source": [
    "import torch\n",
    "from torch.utils.data import Dataset\n",
    "import pandas as pd\n",
    "import selene_sdk\n",
    "import numpy as np\n",
    "\n",
    "\n",
    "def one_hot_encode(seqs):\n",
    "    seqs_hot = list()\n",
    "    for seq in seqs:\n",
    "        seqs_hot.append(\n",
    "            selene_sdk.sequences.Genome.sequence_to_encoding(seq).T\n",
    "        )\n",
    "    seqs_hot = np.stack(seqs_hot)\n",
    "    return seqs_hot\n",
    "\n",
    "class SampleDataset(Dataset):\n",
    "    \n",
    "    def __init__(self, data_path):\n",
    "    \n",
    "        sequence_key = \"sequence\"\n",
    "        activity_key = \"expression_log2\"\n",
    "        data_df = pd.read_csv(data_path)\n",
    "\n",
    "        sequences = data_df[sequence_key]\n",
    "        self.target = torch.tensor(data_df[activity_key].values, dtype=torch.float)\n",
    "\n",
    "        self.seqs_hot = one_hot_encode(sequences)\n",
    "        \n",
    "    def __len__(self):\n",
    "        return len(self.target)\n",
    "    \n",
    "    def __getitem__(self, idx):\n",
    "        x = self.seqs_hot[idx]\n",
    "        y = self.target[idx]\n",
    "\n",
    "        return x, y"
   ]
  },
  {
   "cell_type": "code",
   "execution_count": null,
   "id": "97411e28-cb46-49b4-a7d5-a845bd2865da",
   "metadata": {},
   "outputs": [],
   "source": []
  }
 ],
 "metadata": {
  "kernelspec": {
   "display_name": "Python 3 (ipykernel)",
   "language": "python",
   "name": "python3"
  },
  "language_info": {
   "codemirror_mode": {
    "name": "ipython",
    "version": 3
   },
   "file_extension": ".py",
   "mimetype": "text/x-python",
   "name": "python",
   "nbconvert_exporter": "python",
   "pygments_lexer": "ipython3",
   "version": "3.9.16"
  }
 },
 "nbformat": 4,
 "nbformat_minor": 5
}
