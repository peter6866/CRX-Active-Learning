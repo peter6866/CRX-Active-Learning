{
 "cells": [
  {
   "cell_type": "code",
   "execution_count": 1,
   "id": "2a48ec0d-ade2-4403-b46a-44f9aa07b0d7",
   "metadata": {},
   "outputs": [
    {
     "name": "stderr",
     "output_type": "stream",
     "text": [
      "/ref/bclab/software/jiayu/.conda/envs/active-learning/lib/python3.9/site-packages/tqdm/auto.py:22: TqdmWarning: IProgress not found. Please update jupyter and ipywidgets. See https://ipywidgets.readthedocs.io/en/stable/user_install.html\n",
      "  from .autonotebook import tqdm as notebook_tqdm\n"
     ]
    }
   ],
   "source": [
    "import torch\n",
    "import pytorch_lightning as pl\n",
    "from pytorch_lightning.loggers import WandbLogger\n",
    "import wandb\n",
    "from models.WGAN_Model import WGAN"
   ]
  },
  {
   "cell_type": "code",
   "execution_count": 2,
   "id": "308303cc-82b7-42df-af3b-5b102eca6977",
   "metadata": {},
   "outputs": [],
   "source": [
    "import time\n",
    "from datamodules.ganDataset import ganDataset\n",
    "from torch.utils.data import DataLoader"
   ]
  },
  {
   "cell_type": "code",
   "execution_count": 3,
   "id": "51f8aa6b-c92b-4ce1-9adc-822b50a11973",
   "metadata": {},
   "outputs": [],
   "source": [
    "SEQ_LEN = 164\n",
    "data_dir = \"../Data/activity_summary_stats_and_metadata.txt\""
   ]
  },
  {
   "cell_type": "code",
   "execution_count": 4,
   "id": "0fbc4091-2f87-452b-b01e-aa9d41cdcdc0",
   "metadata": {},
   "outputs": [
    {
     "name": "stderr",
     "output_type": "stream",
     "text": [
      "[rank: 0] Global seed set to 7\n"
     ]
    },
    {
     "data": {
      "text/plain": [
       "7"
      ]
     },
     "execution_count": 4,
     "metadata": {},
     "output_type": "execute_result"
    }
   ],
   "source": [
    "pl.seed_everything(7)"
   ]
  },
  {
   "cell_type": "code",
   "execution_count": 5,
   "id": "cf212d9a-afcc-41ac-877d-8a11030b1c24",
   "metadata": {},
   "outputs": [
    {
     "name": "stderr",
     "output_type": "stream",
     "text": [
      "Failed to detect the name of this notebook, you can set it manually with the WANDB_NOTEBOOK_NAME environment variable to enable code saving.\n",
      "\u001b[34m\u001b[1mwandb\u001b[0m: Currently logged in as: \u001b[33mpeter6866\u001b[0m. Use \u001b[1m`wandb login --relogin`\u001b[0m to force relogin\n"
     ]
    },
    {
     "data": {
      "text/html": [
       "wandb version 0.16.0 is available!  To upgrade, please run:\n",
       " $ pip install wandb --upgrade"
      ],
      "text/plain": [
       "<IPython.core.display.HTML object>"
      ]
     },
     "metadata": {},
     "output_type": "display_data"
    },
    {
     "data": {
      "text/html": [
       "Tracking run with wandb version 0.15.8"
      ],
      "text/plain": [
       "<IPython.core.display.HTML object>"
      ]
     },
     "metadata": {},
     "output_type": "display_data"
    },
    {
     "data": {
      "text/html": [
       "Run data is saved locally in <code>./wandb/run-20231117_155721-xvyosbyu</code>"
      ],
      "text/plain": [
       "<IPython.core.display.HTML object>"
      ]
     },
     "metadata": {},
     "output_type": "display_data"
    },
    {
     "data": {
      "text/html": [
       "Syncing run <strong><a href='https://wandb.ai/peter6866/BCLab-WGAN/runs/xvyosbyu' target=\"_blank\">2023-11-17-15-57</a></strong> to <a href='https://wandb.ai/peter6866/BCLab-WGAN' target=\"_blank\">Weights & Biases</a> (<a href='https://wandb.me/run' target=\"_blank\">docs</a>)<br/>"
      ],
      "text/plain": [
       "<IPython.core.display.HTML object>"
      ]
     },
     "metadata": {},
     "output_type": "display_data"
    },
    {
     "data": {
      "text/html": [
       " View project at <a href='https://wandb.ai/peter6866/BCLab-WGAN' target=\"_blank\">https://wandb.ai/peter6866/BCLab-WGAN</a>"
      ],
      "text/plain": [
       "<IPython.core.display.HTML object>"
      ]
     },
     "metadata": {},
     "output_type": "display_data"
    },
    {
     "data": {
      "text/html": [
       " View run at <a href='https://wandb.ai/peter6866/BCLab-WGAN/runs/xvyosbyu' target=\"_blank\">https://wandb.ai/peter6866/BCLab-WGAN/runs/xvyosbyu</a>"
      ],
      "text/plain": [
       "<IPython.core.display.HTML object>"
      ]
     },
     "metadata": {},
     "output_type": "display_data"
    }
   ],
   "source": [
    "wandb_logger = WandbLogger(\n",
    "    project='BCLab-WGAN',\n",
    "    name=time.strftime('%Y-%m-%d-%H-%M'),\n",
    "    )"
   ]
  },
  {
   "cell_type": "code",
   "execution_count": 6,
   "id": "cc882374-f0c5-446f-96d7-29bb2127b800",
   "metadata": {},
   "outputs": [],
   "source": [
    "dataset = ganDataset(data_dir)\n",
    "dataloader = DataLoader(dataset, batch_size=64, num_workers=4, shuffle=True)"
   ]
  },
  {
   "cell_type": "code",
   "execution_count": 7,
   "id": "4e194ab2-f048-4a9f-969c-7320289c8045",
   "metadata": {},
   "outputs": [],
   "source": [
    "model = WGAN(seq_len=SEQ_LEN)"
   ]
  },
  {
   "cell_type": "code",
   "execution_count": 8,
   "id": "be0f6890-6683-48a2-b055-b10c37ca2056",
   "metadata": {},
   "outputs": [
    {
     "name": "stderr",
     "output_type": "stream",
     "text": [
      "/ref/bclab/software/jiayu/.conda/envs/active-learning/lib/python3.9/site-packages/lightning_fabric/plugins/environments/slurm.py:168: PossibleUserWarning: The `srun` command is available on your system but is not used. HINT: If your intention is to run Lightning on SLURM, prepend your python command with `srun` like so: srun python /ref/bclab/software/jiayu/.conda/envs/active-learnin ...\n",
      "  rank_zero_warn(\n",
      "GPU available: True (cuda), used: True\n",
      "TPU available: False, using: 0 TPU cores\n",
      "IPU available: False, using: 0 IPUs\n",
      "HPU available: False, using: 0 HPUs\n"
     ]
    }
   ],
   "source": [
    "trainer = pl.Trainer(\n",
    "    logger=wandb_logger,\n",
    "    accelerator='gpu',\n",
    "    devices=-1,\n",
    "    max_epochs=100,\n",
    "    deterministic=True\n",
    ")"
   ]
  },
  {
   "cell_type": "code",
   "execution_count": 9,
   "id": "c1d8c7f8-3e06-4c6b-ab13-cf066a791194",
   "metadata": {},
   "outputs": [
    {
     "name": "stderr",
     "output_type": "stream",
     "text": [
      "/ref/bclab/software/jiayu/.conda/envs/active-learning/lib/python3.9/site-packages/lightning_fabric/plugins/environments/slurm.py:168: PossibleUserWarning: The `srun` command is available on your system but is not used. HINT: If your intention is to run Lightning on SLURM, prepend your python command with `srun` like so: srun python /ref/bclab/software/jiayu/.conda/envs/active-learnin ...\n",
      "  rank_zero_warn(\n",
      "LOCAL_RANK: 0 - CUDA_VISIBLE_DEVICES: [0]\n",
      "\n",
      "  | Name      | Type      | Params\n",
      "----------------------------------------\n",
      "0 | generator | Generator | 2.2 M \n",
      "1 | critic    | Critic    | 517 K \n",
      "----------------------------------------\n",
      "2.7 M     Trainable params\n",
      "0         Non-trainable params\n",
      "2.7 M     Total params\n",
      "10.703    Total estimated model params size (MB)\n"
     ]
    },
    {
     "name": "stdout",
     "output_type": "stream",
     "text": [
      "Epoch 99: 100%|██████████| 191/191 [00:12<00:00, 15.16it/s, v_num=sbyu, d_loss=2.050, g_loss=-.165]"
     ]
    },
    {
     "name": "stderr",
     "output_type": "stream",
     "text": [
      "`Trainer.fit` stopped: `max_epochs=100` reached.\n"
     ]
    },
    {
     "name": "stdout",
     "output_type": "stream",
     "text": [
      "Epoch 99: 100%|██████████| 191/191 [00:12<00:00, 15.11it/s, v_num=sbyu, d_loss=2.050, g_loss=-.165]\n"
     ]
    }
   ],
   "source": [
    "torch.set_float32_matmul_precision('high')\n",
    "trainer.fit(model, dataloader)"
   ]
  },
  {
   "cell_type": "code",
   "execution_count": 10,
   "id": "5aa5cab9-7536-4019-bc8e-35fb677d9fbc",
   "metadata": {},
   "outputs": [],
   "source": [
    "noise = torch.randn(100)"
   ]
  },
  {
   "cell_type": "code",
   "execution_count": 11,
   "id": "ffb93772-6a10-47dc-9b35-ea4e73bf9802",
   "metadata": {},
   "outputs": [
    {
     "data": {
      "text/html": [
       "Waiting for W&B process to finish... <strong style=\"color:green\">(success).</strong>"
      ],
      "text/plain": [
       "<IPython.core.display.HTML object>"
      ]
     },
     "metadata": {},
     "output_type": "display_data"
    },
    {
     "name": "stderr",
     "output_type": "stream",
     "text": [
      "wandb: WARNING Source type is set to 'repo' but some required information is missing from the environment. A job will not be created from this run. See https://docs.wandb.ai/guides/launch/create-job\n"
     ]
    },
    {
     "data": {
      "text/html": [
       "<style>\n",
       "    table.wandb td:nth-child(1) { padding: 0 10px; text-align: left ; width: auto;} td:nth-child(2) {text-align: left ; width: 100%}\n",
       "    .wandb-row { display: flex; flex-direction: row; flex-wrap: wrap; justify-content: flex-start; width: 100% }\n",
       "    .wandb-col { display: flex; flex-direction: column; flex-basis: 100%; flex: 1; padding: 10px; }\n",
       "    </style>\n",
       "<div class=\"wandb-row\"><div class=\"wandb-col\"><h3>Run history:</h3><br/><table class=\"wandb\"><tr><td>d_loss</td><td>▇█▆█▅▅▄▄▃▂▁▅▇▃▂▅▅▁▃▃▄▇▇▄▁▃▇▇▁▃▆▅▆▆▆▃█▃▂▄</td></tr><tr><td>epoch</td><td>▁▁▁▁▂▂▂▂▂▃▃▃▃▃▃▄▄▄▄▄▅▅▅▅▅▅▆▆▆▆▆▇▇▇▇▇▇███</td></tr><tr><td>g_loss</td><td>▂▅▆▂▂▄▃▄█▆▄▇▃▆▇▃▂▅▃▄▄▃▁▄▃▂▅▄▄▂▃▃▄▃▇█▅▂▇█</td></tr><tr><td>trainer/global_step</td><td>▁▁▁▂▂▂▂▂▂▃▃▃▃▃▃▄▄▄▄▄▅▅▅▅▅▅▆▆▆▆▆▇▇▇▇▇▇███</td></tr></table><br/></div><div class=\"wandb-col\"><h3>Run summary:</h3><br/><table class=\"wandb\"><tr><td>d_loss</td><td>2.05162</td></tr><tr><td>epoch</td><td>99</td></tr><tr><td>g_loss</td><td>-0.16546</td></tr><tr><td>trainer/global_step</td><td>19099</td></tr></table><br/></div></div>"
      ],
      "text/plain": [
       "<IPython.core.display.HTML object>"
      ]
     },
     "metadata": {},
     "output_type": "display_data"
    },
    {
     "data": {
      "text/html": [
       " View run <strong style=\"color:#cdcd00\">2023-11-17-15-57</strong> at: <a href='https://wandb.ai/peter6866/BCLab-WGAN/runs/xvyosbyu' target=\"_blank\">https://wandb.ai/peter6866/BCLab-WGAN/runs/xvyosbyu</a><br/>Synced 6 W&B file(s), 0 media file(s), 0 artifact file(s) and 0 other file(s)"
      ],
      "text/plain": [
       "<IPython.core.display.HTML object>"
      ]
     },
     "metadata": {},
     "output_type": "display_data"
    },
    {
     "data": {
      "text/html": [
       "Find logs at: <code>./wandb/run-20231117_155721-xvyosbyu/logs</code>"
      ],
      "text/plain": [
       "<IPython.core.display.HTML object>"
      ]
     },
     "metadata": {},
     "output_type": "display_data"
    }
   ],
   "source": [
    "wandb.finish()"
   ]
  },
  {
   "cell_type": "code",
   "execution_count": 12,
   "id": "a061a289-3122-4ef7-afd8-d426f5613bea",
   "metadata": {},
   "outputs": [],
   "source": [
    "import numpy as np\n",
    "import selene_sdk"
   ]
  },
  {
   "cell_type": "code",
   "execution_count": 13,
   "id": "b5251ff3-f201-450f-a94a-a75556748512",
   "metadata": {},
   "outputs": [
    {
     "data": {
      "text/plain": [
       "torch.Size([1, 4, 164])"
      ]
     },
     "execution_count": 13,
     "metadata": {},
     "output_type": "execute_result"
    }
   ],
   "source": [
    "sample = model(noise)\n",
    "sample.shape"
   ]
  },
  {
   "cell_type": "code",
   "execution_count": 14,
   "id": "3f52faa2-a784-4874-9584-69ffbe932a62",
   "metadata": {},
   "outputs": [
    {
     "name": "stdout",
     "output_type": "stream",
     "text": [
      "TCAGCTGCCCGTTCTACTGACTAAAGCAGACATACGGCCGAGTCCGACCGGCGGTGGGTGGGTGCACGTTGACTAGCGCGGTGGAACAGTGACCGGGCTCCGTTTTAGAGAAATTCGAGGGGTCCCTGATGTGACCCGGTCGCAGGCGCGAAGTTGAAGTGGGG\n"
     ]
    }
   ],
   "source": [
    "# Decoding to DNA sequence\n",
    "_, indices = torch.max(sample, dim=1)\n",
    "bases = {0: 'A', 1: 'C', 2: 'G', 3: 'T'}\n",
    "dna_sequence = ''.join(bases[i.item()] for i in indices[0])\n",
    "\n",
    "print(dna_sequence)"
   ]
  },
  {
   "cell_type": "code",
   "execution_count": 15,
   "id": "8a2e35ce-ba54-4d09-a538-d1e145f21f1c",
   "metadata": {},
   "outputs": [
    {
     "name": "stdout",
     "output_type": "stream",
     "text": [
      "GAATGTGACAAGCGGCTGACGAGCCTCAAAAGCGTCACGAAGACACGTATTACGGGGACAAGTTTGGGCCTGCGGAGGCAGACACGTCAGCGCGGGGAGCGCTGCCGTTACATGCTGACTAGGGCTCATTTGGCGGGAGCGAACGCTCGACAGACAGGTGAGCG\n"
     ]
    }
   ],
   "source": [
    "noise = torch.randn(100)\n",
    "sample = model(noise)\n",
    "_, indices = torch.max(sample, dim=1)\n",
    "bases = {0: 'A', 1: 'C', 2: 'G', 3: 'T'}\n",
    "dna_sequence = ''.join(bases[i.item()] for i in indices[0])\n",
    "\n",
    "print(dna_sequence)"
   ]
  },
  {
   "cell_type": "code",
   "execution_count": 19,
   "id": "a5374389-a835-4bfa-9a55-dbc5595a50ca",
   "metadata": {},
   "outputs": [
    {
     "name": "stdout",
     "output_type": "stream",
     "text": [
      "GCGGACCAAGGCAAGGCGGCTTTGTAGTAGAAGGAGAGTCGTGCGCGGCTGGCTAGAGTTTTCCGTATGGCAGTGCGGACCATGGTGGAATACAATTTGGGGGTCACGGGGGCAGTGCCGGAAGGGCGGAACAAGGCTTACGGTGCCTGCGAACATGGCGCTCA\n"
     ]
    }
   ],
   "source": [
    "noise = torch.randn(100)\n",
    "sample = model(noise)\n",
    "_, indices = torch.max(sample, dim=1)\n",
    "bases = {0: 'A', 1: 'C', 2: 'G', 3: 'T'}\n",
    "dna_sequence = ''.join(bases[i.item()] for i in indices[0])\n",
    "\n",
    "print(dna_sequence)"
   ]
  },
  {
   "cell_type": "code",
   "execution_count": null,
   "id": "0a3b9a20-c542-496d-a9ee-9a9a9571c12f",
   "metadata": {},
   "outputs": [],
   "source": []
  }
 ],
 "metadata": {
  "kernelspec": {
   "display_name": "Python 3 (ipykernel)",
   "language": "python",
   "name": "python3"
  },
  "language_info": {
   "codemirror_mode": {
    "name": "ipython",
    "version": 3
   },
   "file_extension": ".py",
   "mimetype": "text/x-python",
   "name": "python",
   "nbconvert_exporter": "python",
   "pygments_lexer": "ipython3",
   "version": "3.9.16"
  }
 },
 "nbformat": 4,
 "nbformat_minor": 5
}
