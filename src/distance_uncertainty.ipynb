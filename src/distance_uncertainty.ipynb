{
 "cells": [
  {
   "cell_type": "code",
   "execution_count": 1,
   "id": "initial_id",
   "metadata": {
    "collapsed": true,
    "ExecuteTime": {
     "end_time": "2023-11-01T20:48:16.991040213Z",
     "start_time": "2023-11-01T20:48:16.018510226Z"
    }
   },
   "outputs": [],
   "source": [
    "import torch\n",
    "from transformers import AutoTokenizer, AutoModel\n",
    "from torch.utils.data import Dataset\n",
    "import pandas as pd\n",
    "import selene_sdk\n",
    "import numpy as np"
   ]
  },
  {
   "cell_type": "code",
   "execution_count": 2,
   "outputs": [],
   "source": [
    "data_dir = \"/home/jiayu-huang/codebase/CRX-Active-Learning/Data/Sampling_Test/all_samples.csv\""
   ],
   "metadata": {
    "collapsed": false,
    "ExecuteTime": {
     "end_time": "2023-11-01T20:48:16.991223027Z",
     "start_time": "2023-11-01T20:48:16.989676934Z"
    }
   },
   "id": "c0594439f41e4a61"
  },
  {
   "cell_type": "code",
   "execution_count": 3,
   "outputs": [
    {
     "data": {
      "text/plain": "                                                sequence  expression_log2\n0      GTCACAGCTTTACAGCCTTCGGATGTTTCCAAAGTCTCCGCTCGAT...         1.596320\n1      TAAGCTGAGGGTTACTTCCCATGGCCCTGAAGAATGAGAAGGCATT...         1.737424\n2      GAGCCACTTGGCTTGGCGTAGGCTTTTGAGATCTCAAAGTCCACCA...         1.319990\n3      CAGACAGTACTTTGAAGAACAGATGGTGTGGGCCCTTTGTTACCAT...         0.522135\n4      CAGAGGGCTAGCAGGCCCAGGAGGAGGAGGAGCCAGGGCTGTTAAA...        -0.088277\n...                                                  ...              ...\n12474  GTCGACAGATGTGAAGATCAAGCGTGGAAAACTCTTTAAAAAGAAT...         0.721225\n12475  CGTAGCCTGACTTTGCCCTAAAAACCATCCTCTTCATTACCCTTAG...         0.720954\n12476  ATGACATACGTTTAATTCCCCTTTAGTATAAGGTATGAATCCTGAG...         5.929735\n12477  ATCCATGTCAGTAAAACCAAACAGAACCTTGACTGGATCTCTCGCA...         2.973909\n12478  ACGGTCAGCGCAACATTGTGCTGATTAACAGTCAGCATTTGTTACT...         5.329671\n\n[12479 rows x 2 columns]",
      "text/html": "<div>\n<style scoped>\n    .dataframe tbody tr th:only-of-type {\n        vertical-align: middle;\n    }\n\n    .dataframe tbody tr th {\n        vertical-align: top;\n    }\n\n    .dataframe thead th {\n        text-align: right;\n    }\n</style>\n<table border=\"1\" class=\"dataframe\">\n  <thead>\n    <tr style=\"text-align: right;\">\n      <th></th>\n      <th>sequence</th>\n      <th>expression_log2</th>\n    </tr>\n  </thead>\n  <tbody>\n    <tr>\n      <th>0</th>\n      <td>GTCACAGCTTTACAGCCTTCGGATGTTTCCAAAGTCTCCGCTCGAT...</td>\n      <td>1.596320</td>\n    </tr>\n    <tr>\n      <th>1</th>\n      <td>TAAGCTGAGGGTTACTTCCCATGGCCCTGAAGAATGAGAAGGCATT...</td>\n      <td>1.737424</td>\n    </tr>\n    <tr>\n      <th>2</th>\n      <td>GAGCCACTTGGCTTGGCGTAGGCTTTTGAGATCTCAAAGTCCACCA...</td>\n      <td>1.319990</td>\n    </tr>\n    <tr>\n      <th>3</th>\n      <td>CAGACAGTACTTTGAAGAACAGATGGTGTGGGCCCTTTGTTACCAT...</td>\n      <td>0.522135</td>\n    </tr>\n    <tr>\n      <th>4</th>\n      <td>CAGAGGGCTAGCAGGCCCAGGAGGAGGAGGAGCCAGGGCTGTTAAA...</td>\n      <td>-0.088277</td>\n    </tr>\n    <tr>\n      <th>...</th>\n      <td>...</td>\n      <td>...</td>\n    </tr>\n    <tr>\n      <th>12474</th>\n      <td>GTCGACAGATGTGAAGATCAAGCGTGGAAAACTCTTTAAAAAGAAT...</td>\n      <td>0.721225</td>\n    </tr>\n    <tr>\n      <th>12475</th>\n      <td>CGTAGCCTGACTTTGCCCTAAAAACCATCCTCTTCATTACCCTTAG...</td>\n      <td>0.720954</td>\n    </tr>\n    <tr>\n      <th>12476</th>\n      <td>ATGACATACGTTTAATTCCCCTTTAGTATAAGGTATGAATCCTGAG...</td>\n      <td>5.929735</td>\n    </tr>\n    <tr>\n      <th>12477</th>\n      <td>ATCCATGTCAGTAAAACCAAACAGAACCTTGACTGGATCTCTCGCA...</td>\n      <td>2.973909</td>\n    </tr>\n    <tr>\n      <th>12478</th>\n      <td>ACGGTCAGCGCAACATTGTGCTGATTAACAGTCAGCATTTGTTACT...</td>\n      <td>5.329671</td>\n    </tr>\n  </tbody>\n</table>\n<p>12479 rows × 2 columns</p>\n</div>"
     },
     "execution_count": 3,
     "metadata": {},
     "output_type": "execute_result"
    }
   ],
   "source": [
    "df = pd.read_csv(data_dir)\n",
    "df"
   ],
   "metadata": {
    "collapsed": false,
    "ExecuteTime": {
     "end_time": "2023-11-01T20:48:17.014208192Z",
     "start_time": "2023-11-01T20:48:16.992046453Z"
    }
   },
   "id": "308f1b1cf725f44c"
  },
  {
   "cell_type": "code",
   "execution_count": 4,
   "outputs": [],
   "source": [
    "from transformers import BertConfig\n",
    "\n",
    "tokenizer = AutoTokenizer.from_pretrained(\"zhihan1996/DNABERT-2-117M\", trust_remote_code=True)\n",
    "config = BertConfig.from_pretrained(\"zhihan1996/DNABERT-2-117M\")\n",
    "model = AutoModel.from_config(config).cuda()"
   ],
   "metadata": {
    "collapsed": false,
    "ExecuteTime": {
     "end_time": "2023-11-01T20:48:18.456023211Z",
     "start_time": "2023-11-01T20:48:17.012382165Z"
    }
   },
   "id": "d21c3fd24f32215b"
  },
  {
   "cell_type": "code",
   "execution_count": 6,
   "outputs": [],
   "source": [
    "# Pre-allocate memory\n",
    "embeddings_mean = np.zeros([len(df), 768])\n",
    "\n",
    "# Define batch size\n",
    "BATCH_SIZE = 256\n",
    "\n",
    "for i in range(0, len(df), BATCH_SIZE):\n",
    "    end_idx = min(i + BATCH_SIZE, len(df))\n",
    "    batch_dnas = df.iloc[i:end_idx]['sequence'].tolist()\n",
    "    \n",
    "    with torch.no_grad():\n",
    "        inputs = tokenizer(batch_dnas, return_tensors='pt', padding=True).to(\"cuda\")\n",
    "        hidden_states = model(**inputs).last_hidden_state\n",
    "        \n",
    "        # Mean pooling\n",
    "        batch_embedding_mean = torch.mean(hidden_states, dim=1).cpu()\n",
    "        embeddings_mean[i:end_idx] = batch_embedding_mean"
   ],
   "metadata": {
    "collapsed": false,
    "ExecuteTime": {
     "end_time": "2023-11-01T20:48:45.226042814Z",
     "start_time": "2023-11-01T20:48:38.986126183Z"
    }
   },
   "id": "108a7e10aacbebbc"
  },
  {
   "cell_type": "code",
   "execution_count": 7,
   "outputs": [
    {
     "data": {
      "text/plain": "array([[-2.67608851e-01,  6.32093251e-01, -3.98190588e-01, ...,\n        -2.57434547e-01,  2.22299676e-02,  8.68904293e-01],\n       [-1.78506762e-01,  5.03653467e-01, -2.53276706e-01, ...,\n        -3.66730660e-01, -1.49027929e-01,  1.28093004e+00],\n       [-2.60422850e-04,  5.50247610e-01, -3.39847237e-01, ...,\n        -4.64525998e-01,  8.88472497e-02,  9.18240488e-01],\n       ...,\n       [-3.30259472e-01,  6.56379104e-01, -1.66249633e-01, ...,\n        -1.82980910e-01,  3.34969938e-01,  8.62597287e-01],\n       [-4.81922328e-02,  6.11081302e-01,  4.83461618e-02, ...,\n        -6.28291965e-01,  1.87628314e-01,  8.64374638e-01],\n       [-2.10417598e-01,  5.62864423e-01, -2.15571702e-01, ...,\n        -2.68983599e-02,  7.15724677e-02,  6.72749937e-01]])"
     },
     "execution_count": 7,
     "metadata": {},
     "output_type": "execute_result"
    }
   ],
   "source": [
    "embeddings_mean"
   ],
   "metadata": {
    "collapsed": false,
    "ExecuteTime": {
     "end_time": "2023-11-01T20:48:47.870853403Z",
     "start_time": "2023-11-01T20:48:47.830318956Z"
    }
   },
   "id": "f28c29985013326f"
  },
  {
   "cell_type": "code",
   "execution_count": 8,
   "outputs": [],
   "source": [
    "def euclidean_distance(a, b):\n",
    "    return np.linalg.norm(a - b)"
   ],
   "metadata": {
    "collapsed": false,
    "ExecuteTime": {
     "end_time": "2023-11-01T20:50:01.446555858Z",
     "start_time": "2023-11-01T20:50:01.403918505Z"
    }
   },
   "id": "390cf334963f7bd8"
  },
  {
   "cell_type": "code",
   "execution_count": 22,
   "outputs": [
    {
     "data": {
      "text/plain": "5.8689350925930865"
     },
     "execution_count": 22,
     "metadata": {},
     "output_type": "execute_result"
    }
   ],
   "source": [
    "euclidean_distance(embeddings_mean[6],embeddings_mean[5454])"
   ],
   "metadata": {
    "collapsed": false,
    "ExecuteTime": {
     "end_time": "2023-11-01T20:53:51.043828072Z",
     "start_time": "2023-11-01T20:53:51.032521372Z"
    }
   },
   "id": "a15434d43d5420fd"
  },
  {
   "cell_type": "code",
   "execution_count": 14,
   "outputs": [],
   "source": [
    "def cosine_similarity(a, b):\n",
    "    dot_product = np.dot(a, b)\n",
    "    norm_a = np.linalg.norm(a)\n",
    "    norm_b = np.linalg.norm(b)\n",
    "    return dot_product / (norm_a * norm_b)"
   ],
   "metadata": {
    "collapsed": false,
    "ExecuteTime": {
     "end_time": "2023-11-01T20:52:13.754566850Z",
     "start_time": "2023-11-01T20:52:13.712659806Z"
    }
   },
   "id": "2ce1cc14a15c593e"
  },
  {
   "cell_type": "code",
   "execution_count": null,
   "outputs": [],
   "source": [],
   "metadata": {
    "collapsed": false
   },
   "id": "f78018ee769f9cbf"
  }
 ],
 "metadata": {
  "kernelspec": {
   "display_name": "Python 3",
   "language": "python",
   "name": "python3"
  },
  "language_info": {
   "codemirror_mode": {
    "name": "ipython",
    "version": 2
   },
   "file_extension": ".py",
   "mimetype": "text/x-python",
   "name": "python",
   "nbconvert_exporter": "python",
   "pygments_lexer": "ipython2",
   "version": "2.7.6"
  }
 },
 "nbformat": 4,
 "nbformat_minor": 5
}
